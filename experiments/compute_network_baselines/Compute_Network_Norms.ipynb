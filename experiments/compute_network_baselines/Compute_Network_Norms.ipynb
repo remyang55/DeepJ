{
 "cells": [
  {
   "cell_type": "code",
   "execution_count": 1,
   "metadata": {},
   "outputs": [],
   "source": [
    "%%capture\n",
    "# above used to suppress output when calling onnx_to_keras\n",
    "\n",
    "import onnx\n",
    "from onnx2keras import onnx_to_keras\n",
    "\n",
    "datasets = ['CIFAR', 'MNIST']\n",
    "nets = ['ConvBig', 'ConvMed', 'FFNN']\n",
    "\n",
    "models = {}\n",
    "\n",
    "for dataset in datasets:\n",
    "    models[dataset] = {}\n",
    "    for net in nets:\n",
    "        onnx_model = onnx.load(f'networks_onnx/{dataset}_Networks/{net}.onnx')\n",
    "        \n",
    "        if net == 'FFNN':\n",
    "            k_model = onnx_to_keras(onnx_model, ['0'])\n",
    "        else:\n",
    "            k_model = onnx_to_keras(onnx_model, ['input.1'])\n",
    "        \n",
    "        models[dataset][net] = k_model"
   ]
  },
  {
   "cell_type": "code",
   "execution_count": 2,
   "metadata": {},
   "outputs": [],
   "source": [
    "convmed_layers = [2, 5, 8, 10]\n",
    "convbig_layers = [2, 5, 8, 11, 14, 16, 18]\n",
    "ffnn_layers = [2, 4, 6, 8, 10, 12, 14]\n",
    "\n",
    "from keras import backend as K"
   ]
  },
  {
   "cell_type": "code",
   "execution_count": 3,
   "metadata": {},
   "outputs": [
    {
     "name": "stdout",
     "output_type": "stream",
     "text": [
      "CIFAR ConvBig: 1587185536.0\n",
      "CIFAR ConvMed: 64603.76171875\n",
      "CIFAR FFNN: 97618464.0\n",
      "MNIST ConvBig: 3638838016.0\n",
      "MNIST ConvMed: 92872.0859375\n",
      "MNIST FFNN: 165186992.0\n"
     ]
    }
   ],
   "source": [
    "for dataset in datasets:\n",
    "    for net in nets:\n",
    "        model = models[dataset][net]\n",
    "        \n",
    "        if net == 'ConvBig':\n",
    "            layers = convbig_layers\n",
    "        elif net == 'ConvMed':\n",
    "            layers = convmed_layers\n",
    "        else:\n",
    "            layers = ffnn_layers\n",
    "        \n",
    "        n = 1\n",
    "        for layer_i in layers:\n",
    "            w = K.constant(model.layers[layer_i].get_weights()[0])\n",
    "            \n",
    "            axes = 0\n",
    "            if len(w.shape) == 4:\n",
    "                axes=[0, 1, 2]\n",
    "            \n",
    "            norm = K.max(K.sum(K.abs(w), axis=axes, keepdims=False))\n",
    "            n *= norm\n",
    "            \n",
    "        print(f'{dataset} {net}: {n}')"
   ]
  }
 ],
 "metadata": {
  "kernelspec": {
   "display_name": "Python 3",
   "language": "python",
   "name": "python3"
  },
  "language_info": {
   "codemirror_mode": {
    "name": "ipython",
    "version": 3
   },
   "file_extension": ".py",
   "mimetype": "text/x-python",
   "name": "python",
   "nbconvert_exporter": "python",
   "pygments_lexer": "ipython3",
   "version": "3.8.3"
  }
 },
 "nbformat": 4,
 "nbformat_minor": 4
}
